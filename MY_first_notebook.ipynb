{
  "nbformat": 4,
  "nbformat_minor": 0,
  "metadata": {
    "colab": {
      "name": "MY first notebook.ipynb",
      "provenance": [],
      "toc_visible": true,
      "authorship_tag": "ABX9TyOt9FIS38TjE2p7kF/lYSFw",
      "include_colab_link": true
    },
    "kernelspec": {
      "name": "python3",
      "display_name": "Python 3"
    },
    "language_info": {
      "name": "python"
    }
  },
  "cells": [
    {
      "cell_type": "markdown",
      "metadata": {
        "id": "view-in-github",
        "colab_type": "text"
      },
      "source": [
        "<a href=\"https://colab.research.google.com/github/MSV-Ganesh/Basic_ML/blob/main/MY_first_notebook.ipynb\" target=\"_parent\"><img src=\"https://colab.research.google.com/assets/colab-badge.svg\" alt=\"Open In Colab\"/></a>"
      ]
    },
    {
      "cell_type": "markdown",
      "metadata": {
        "id": "SwOxgpyJw01Z"
      },
      "source": [
        "1)Maximum of two numbers"
      ]
    },
    {
      "cell_type": "code",
      "metadata": {
        "id": "_4iK0wH3wUlA"
      },
      "source": [
        "a=9\n",
        "b=6\n",
        "if a>b:\n",
        "      print(\"a is maximum\")\n",
        "else:\n",
        "      print(\"b is maximum\")"
      ],
      "execution_count": null,
      "outputs": []
    },
    {
      "cell_type": "markdown",
      "metadata": {
        "id": "D4dUOzZFwzRJ"
      },
      "source": [
        "Explanation:\n",
        "1)Give the input as a&b and assign some integer values\n",
        "2)Check whether  or b is maximum by using if else conditions\n",
        "3)Print the maximum number as output"
      ]
    },
    {
      "cell_type": "markdown",
      "metadata": {
        "id": "B-_LWxgEx2a5"
      },
      "source": [
        "2)Even or Odd"
      ]
    },
    {
      "cell_type": "code",
      "metadata": {
        "id": "Wzlg6Oapx8Y_"
      },
      "source": [
        "n=8\n",
        "if (n%2==0):\n",
        "    print(\"Even\")\n",
        "else:\n",
        "    print(\"Odd\")"
      ],
      "execution_count": null,
      "outputs": []
    },
    {
      "cell_type": "markdown",
      "metadata": {
        "id": "s_Bi0tyi0QGv"
      },
      "source": [
        "Explanation:\n",
        "1)Give some number as input\n",
        "2)Check whether the given number is (n%2==0) if it's equal to zero then print even,else print odd\n",
        "3)By using if else conditions we can assumpt whether the given number is even or odd"
      ]
    },
    {
      "cell_type": "markdown",
      "metadata": {
        "id": "xmD7Lgtj2TXe"
      },
      "source": [
        "3)Factorial of number"
      ]
    },
    {
      "cell_type": "code",
      "metadata": {
        "id": "eaiLIPDy2b_V"
      },
      "source": [
        "n=10\n",
        "f=1\n",
        "for i in range(1,n+1):\n",
        "        f=f*i\n",
        "print(f)"
      ],
      "execution_count": null,
      "outputs": []
    },
    {
      "cell_type": "markdown",
      "metadata": {
        "id": "NBpF4WLK2x5s"
      },
      "source": [
        "Explanation:\n",
        "1)Read n value\n",
        "2)Initialize f=1\n",
        "3)Fix the range as (1,n+1) and do f=f*1\n",
        "4)Print the result(print(f))."
      ]
    }
  ]
}